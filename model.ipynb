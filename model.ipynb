{
 "cells": [
  {
   "cell_type": "code",
   "execution_count": 1,
   "metadata": {},
   "outputs": [
    {
     "name": "stderr",
     "output_type": "stream",
     "text": [
      "Using TensorFlow backend.\n"
     ]
    }
   ],
   "source": [
    "import csv\n",
    "import cv2\n",
    "import numpy as np\n",
    "import matplotlib.pyplot as plt\n",
    "\n",
    "import tensorflow as tf\n",
    "import keras\n",
    "from keras.models import Sequential\n",
    "from keras.layers import Lambda, Cropping2D, Conv2D, MaxPooling2D, BatchNormalization, Flatten, Dense\n",
    "from keras.preprocessing.image import ImageDataGenerator\n",
    "\n",
    "import sklearn\n",
    "from sklearn.model_selection import train_test_split\n",
    "\n",
    "from random import shuffle\n",
    "import math"
   ]
  },
  {
   "cell_type": "code",
   "execution_count": 2,
   "metadata": {},
   "outputs": [],
   "source": [
    "def get_lines(path):\n",
    "    lines = []\n",
    "\n",
    "    with open('./' + path + '/driving_log.csv') as f:\n",
    "        reader = csv.reader(f)\n",
    "        for line in reader:\n",
    "            lines.append(line)\n",
    "    return lines"
   ]
  },
  {
   "cell_type": "code",
   "execution_count": 3,
   "metadata": {},
   "outputs": [],
   "source": [
    "def generator(samples, batch_size=32,path = 'data2'):\n",
    "    num_samples = len(samples)\n",
    "    while True:\n",
    "        shuffle(samples)\n",
    "        for offset in range(0, num_samples, batch_size):\n",
    "            batch_samples = samples[offset:offset+batch_size]\n",
    "\n",
    "            images = []\n",
    "            measurements = []\n",
    "            for i, batch_sample in enumerate(batch_samples):\n",
    "                for i in range(3):\n",
    "                    \n",
    "                    path = './data2/IMG/'\n",
    "                    file_name = path + batch_sample[i].split('\\\\')[-1]\n",
    "\n",
    "                    image = cv2.imread(file_name)\n",
    "                    image = cv2.resize(image, (200,160))\n",
    "                    image = cv2.cvtColor(image, cv2.COLOR_BGR2RGB)\n",
    "                    \n",
    "                    measurement = float(batch_sample[i + 3])\n",
    "                    correction = 0.2\n",
    "                    if i == 1:\n",
    "                        measurement += correction\n",
    "                    elif i == 2:\n",
    "                        measurement -= correction\n",
    "\n",
    "                    images.append(image)\n",
    "                    measurements.append(measurement)\n",
    "                    images.append(cv2.flip(image,1))\n",
    "                    measurements.append(measurement*-1.0)\n",
    "                        \n",
    "            X_train = np.array(images)\n",
    "            y_train = np.array(measurements)\n",
    "            yield sklearn.utils.shuffle(X_train, y_train)"
   ]
  },
  {
   "cell_type": "code",
   "execution_count": 4,
   "metadata": {},
   "outputs": [],
   "source": [
    "def get_conv_norm_layer(out, ksize, strides):\n",
    "    layer = Sequential()\n",
    "    layer.add(Conv2D(out,(ksize,ksize),strides = (strides,strides), activation='relu'))\n",
    "    layer.add(BatchNormalization())\n",
    "    return layer"
   ]
  },
  {
   "cell_type": "code",
   "execution_count": 5,
   "metadata": {},
   "outputs": [],
   "source": [
    "def get_model():\n",
    "    import cv2\n",
    "    model = Sequential()\n",
    "    model.add(Lambda(lambda x: x/255.0 - 0.5 ,input_shape = (160,200,3)))\n",
    "    model.add(Cropping2D(cropping = ((70, 24),(0,0))))\n",
    "    model.add(Conv2D(24,(5,5),strides = (2,2), activation='relu'))\n",
    "    model.add(Conv2D(36,(5,5),strides = (2,2), activation='relu'))\n",
    "    model.add(Conv2D(48,(5,5),strides = (2,2), activation='relu'))\n",
    "    model.add(Conv2D(64,(3,3),strides = (1,1), activation='relu'))\n",
    "    model.add(Conv2D(64,(3,3),strides = (1,1), activation='relu'))\n",
    "\n",
    "    model.add(Flatten())\n",
    "    model.add(Dense(100, activation='relu'))\n",
    "    model.add(Dense(50, activation='relu'))\n",
    "    model.add(Dense(10, activation='relu'))\n",
    "    model.add(Dense(1))\n",
    "\n",
    "    return model\n",
    "\n",
    "def get_model2():\n",
    "    #import keras\n",
    "    model = Sequential()\n",
    "    model.add(Lambda(lambda x: x/255.0 - 0.5 ,input_shape = (160,200,3)))\n",
    "    model.add(Cropping2D(cropping = ((70, 24),(0,0))))\n",
    "    model.add(get_conv_norm_layer(24,5,2))\n",
    "    model.add(get_conv_norm_layer(36,5,2))\n",
    "    model.add(get_conv_norm_layer(48,5,2))\n",
    "    model.add(get_conv_norm_layer(64,3,1))\n",
    "    model.add(get_conv_norm_layer(64,3,2))\n",
    "\n",
    "    model.add(Flatten())\n",
    "    model.add(Dense(100, activation='relu'))\n",
    "    model.add(Dense(50, activation='relu'))\n",
    "    model.add(Dense(10, activation='relu'))\n",
    "    model.add(Dense(1))\n",
    "\n",
    "    return model"
   ]
  },
  {
   "cell_type": "code",
   "execution_count": 6,
   "metadata": {},
   "outputs": [],
   "source": [
    "lines = get_lines('data2')\n",
    "train_samples, validation_samples = train_test_split(lines, test_size=0.2)"
   ]
  },
  {
   "cell_type": "code",
   "execution_count": 7,
   "metadata": {},
   "outputs": [],
   "source": [
    "batch_size = 32\n",
    "train_generator = generator(train_samples, batch_size=batch_size, path='data2')\n",
    "validation_generator = generator(validation_samples, batch_size=batch_size, path= 'data2')"
   ]
  },
  {
   "cell_type": "code",
   "execution_count": 8,
   "metadata": {},
   "outputs": [
    {
     "name": "stdout",
     "output_type": "stream",
     "text": [
      "WARNING:tensorflow:From /opt/conda/lib/python3.6/site-packages/tensorflow/python/framework/op_def_library.py:263: colocate_with (from tensorflow.python.framework.ops) is deprecated and will be removed in a future version.\n",
      "Instructions for updating:\n",
      "Colocations handled automatically by placer.\n",
      "_________________________________________________________________\n",
      "Layer (type)                 Output Shape              Param #   \n",
      "=================================================================\n",
      "lambda_1 (Lambda)            (None, 160, 200, 3)       0         \n",
      "_________________________________________________________________\n",
      "cropping2d_1 (Cropping2D)    (None, 66, 200, 3)        0         \n",
      "_________________________________________________________________\n",
      "sequential_2 (Sequential)    (None, 31, 98, 24)        1920      \n",
      "_________________________________________________________________\n",
      "sequential_3 (Sequential)    (None, 14, 47, 36)        21780     \n",
      "_________________________________________________________________\n",
      "sequential_4 (Sequential)    (None, 5, 22, 48)         43440     \n",
      "_________________________________________________________________\n",
      "sequential_5 (Sequential)    (None, 3, 20, 64)         27968     \n",
      "_________________________________________________________________\n",
      "sequential_6 (Sequential)    (None, 1, 9, 64)          37184     \n",
      "_________________________________________________________________\n",
      "flatten_1 (Flatten)          (None, 576)               0         \n",
      "_________________________________________________________________\n",
      "dense_1 (Dense)              (None, 100)               57700     \n",
      "_________________________________________________________________\n",
      "dense_2 (Dense)              (None, 50)                5050      \n",
      "_________________________________________________________________\n",
      "dense_3 (Dense)              (None, 10)                510       \n",
      "_________________________________________________________________\n",
      "dense_4 (Dense)              (None, 1)                 11        \n",
      "=================================================================\n",
      "Total params: 195,563\n",
      "Trainable params: 195,091\n",
      "Non-trainable params: 472\n",
      "_________________________________________________________________\n"
     ]
    }
   ],
   "source": [
    "model = get_model2()\n",
    "model.summary()"
   ]
  },
  {
   "cell_type": "code",
   "execution_count": 9,
   "metadata": {},
   "outputs": [],
   "source": [
    "early_stopping_callback = keras.callbacks.EarlyStopping(monitor='val_loss', patience=5,verbose=0)\n",
    "\n",
    "checkpoint_callback = keras.callbacks.ModelCheckpoint(filepath='model.h5',monitor='val_loss',\n",
    "                                                      verbose=0, save_best_only=True, save_weights_only=False,)\n",
    "\n",
    "scheduler_callback = keras.callbacks.ReduceLROnPlateau(monitor='val_loss', factor=0.1, patience=3,\n",
    "                                                       verbose=1, cooldown=0, min_lr=0)\n",
    "\n",
    "callbacks = [early_stopping_callback, checkpoint_callback, scheduler_callback]"
   ]
  },
  {
   "cell_type": "code",
   "execution_count": 10,
   "metadata": {},
   "outputs": [
    {
     "name": "stdout",
     "output_type": "stream",
     "text": [
      "WARNING:tensorflow:From /opt/conda/lib/python3.6/site-packages/tensorflow/python/ops/math_ops.py:3066: to_int32 (from tensorflow.python.ops.math_ops) is deprecated and will be removed in a future version.\n",
      "Instructions for updating:\n",
      "Use tf.cast instead.\n",
      "Epoch 1/20\n",
      "90/90 [==============================] - 26s 291ms/step - loss: 0.1754 - val_loss: 0.1359\n",
      "Epoch 2/20\n",
      "90/90 [==============================] - 21s 229ms/step - loss: 0.0938 - val_loss: 0.0938\n",
      "Epoch 3/20\n",
      "90/90 [==============================] - 21s 236ms/step - loss: 0.0771 - val_loss: 0.0999\n",
      "Epoch 4/20\n",
      "90/90 [==============================] - 21s 233ms/step - loss: 0.0648 - val_loss: 0.0882\n",
      "Epoch 5/20\n",
      "90/90 [==============================] - 21s 233ms/step - loss: 0.0529 - val_loss: 0.0881\n",
      "Epoch 6/20\n",
      "90/90 [==============================] - 21s 236ms/step - loss: 0.0421 - val_loss: 0.0888\n",
      "Epoch 7/20\n",
      "90/90 [==============================] - 21s 233ms/step - loss: 0.0305 - val_loss: 0.0768\n",
      "Epoch 8/20\n",
      "90/90 [==============================] - 21s 233ms/step - loss: 0.0235 - val_loss: 0.0745\n",
      "Epoch 9/20\n",
      "90/90 [==============================] - 21s 237ms/step - loss: 0.0188 - val_loss: 0.0744\n",
      "Epoch 10/20\n",
      "90/90 [==============================] - 21s 232ms/step - loss: 0.0146 - val_loss: 0.0641\n",
      "Epoch 11/20\n",
      "90/90 [==============================] - 21s 234ms/step - loss: 0.0131 - val_loss: 0.0746\n",
      "Epoch 12/20\n",
      "90/90 [==============================] - 21s 237ms/step - loss: 0.0113 - val_loss: 0.0668\n",
      "Epoch 13/20\n",
      "90/90 [==============================] - 21s 233ms/step - loss: 0.0100 - val_loss: 0.0698\n",
      "Epoch 14/20\n",
      "90/90 [==============================] - 21s 232ms/step - loss: 0.0077 - val_loss: 0.0712\n",
      "Epoch 15/20\n",
      "90/90 [==============================] - 21s 235ms/step - loss: 0.0076 - val_loss: 0.0680\n",
      "\n",
      "Epoch 00015: ReduceLROnPlateau reducing learning rate to 0.00010000000474974513.\n",
      "Epoch 16/20\n",
      "90/90 [==============================] - 21s 232ms/step - loss: 0.0053 - val_loss: 0.0648\n",
      "Epoch 17/20\n",
      "90/90 [==============================] - 21s 232ms/step - loss: 0.0043 - val_loss: 0.0617\n",
      "Epoch 18/20\n",
      "90/90 [==============================] - 21s 234ms/step - loss: 0.0040 - val_loss: 0.0622\n",
      "Epoch 19/20\n",
      "90/90 [==============================] - 21s 229ms/step - loss: 0.0036 - val_loss: 0.0624\n",
      "Epoch 20/20\n",
      "90/90 [==============================] - 21s 230ms/step - loss: 0.0035 - val_loss: 0.0637\n"
     ]
    }
   ],
   "source": [
    "epochs = 20\n",
    "model.compile(loss = 'mse', optimizer = 'adam')\n",
    "history_object = model.fit_generator(train_generator, steps_per_epoch = math.ceil(len(train_samples) / batch_size),\n",
    "                                     validation_data = validation_generator, validation_steps=int(len(validation_samples)/ batch_size),\n",
    "                                     epochs=epochs, verbose=1, callbacks = callbacks)"
   ]
  },
  {
   "cell_type": "code",
   "execution_count": 17,
   "metadata": {},
   "outputs": [
    {
     "name": "stdout",
     "output_type": "stream",
     "text": [
      "dict_keys(['val_loss', 'loss', 'lr'])\n"
     ]
    },
    {
     "data": {
      "image/png": "[encoded data removed]",
      "text/plain": [
       "<Figure size 432x288 with 1 Axes>"
      ]
     },
     "metadata": {},
     "output_type": "display_data"
    }
   ],
   "source": [
    "print(history_object.history.keys())\n",
    "\n",
    "plt.plot(history_object.history['loss'])\n",
    "plt.plot(history_object.history['val_loss'])\n",
    "plt.title('model mean squared error loss')\n",
    "plt.ylabel('mean squared error loss')\n",
    "plt.xlabel('epochs')\n",
    "plt.legend(['training set', 'validation set'], loc='upper right')\n",
    "plt.show()"
   ]
  },
  {
   "cell_type": "code",
   "execution_count": null,
   "metadata": {},
   "outputs": [],
   "source": []
  }
 ],
 "metadata": {
  "kernelspec": {
   "display_name": "Python 3",
   "language": "python",
   "name": "python3"
  },
  "language_info": {
   "codemirror_mode": {
    "name": "ipython",
    "version": 3
   },
   "file_extension": ".py",
   "mimetype": "text/x-python",
   "name": "python",
   "nbconvert_exporter": "python",
   "pygments_lexer": "ipython3",
   "version": "3.6.6"
  }
 },
 "nbformat": 4,
 "nbformat_minor": 2
}
